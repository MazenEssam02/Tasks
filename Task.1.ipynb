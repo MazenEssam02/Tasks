{
 "cells": [
  {
   "cell_type": "markdown",
   "id": "f340ac4e-3877-4f91-bb63-658ea149c800",
   "metadata": {},
   "source": [
    "# 1\n",
    "#### From Videos"
   ]
  },
  {
   "cell_type": "code",
   "execution_count": 2,
   "id": "bc92315f-24a5-4fe6-9414-36bde88f6c0d",
   "metadata": {},
   "outputs": [],
   "source": [
    "import os\n",
    "import pandas as pd\n",
    "import numpy as np\n"
   ]
  },
  {
   "cell_type": "code",
   "execution_count": 3,
   "id": "e66bc6e2-e7ee-4c19-81ea-54f034ae5bfe",
   "metadata": {},
   "outputs": [],
   "source": [
    "df =pd.read_csv(r'D:\\\\Mazen Essam\\\\Machine Learning course\\\\ENG Mohamed Documentary\\\\products.csv',index_col=False) #read from a csv "
   ]
  },
  {
   "cell_type": "code",
   "execution_count": 4,
   "id": "0e30b014-333b-4075-a888-2a4e171d7f68",
   "metadata": {},
   "outputs": [
    {
     "name": "stdout",
     "output_type": "stream",
     "text": [
      "<class 'pandas.core.frame.DataFrame'>\n",
      "RangeIndex: 49693 entries, 0 to 49692\n",
      "Data columns (total 5 columns):\n",
      " #   Column         Non-Null Count  Dtype  \n",
      "---  ------         --------------  -----  \n",
      " 0   product_id     49693 non-null  int64  \n",
      " 1   product_name   49677 non-null  object \n",
      " 2   aisle_id       49693 non-null  int64  \n",
      " 3   department_id  49693 non-null  int64  \n",
      " 4   prices         49693 non-null  float64\n",
      "dtypes: float64(1), int64(3), object(1)\n",
      "memory usage: 1.9+ MB\n"
     ]
    }
   ],
   "source": [
    "df.info()"
   ]
  },
  {
   "cell_type": "code",
   "execution_count": 5,
   "id": "83f70be1-033c-4db3-a163-700181f106e3",
   "metadata": {},
   "outputs": [
    {
     "data": {
      "text/html": [
       "<div>\n",
       "<style scoped>\n",
       "    .dataframe tbody tr th:only-of-type {\n",
       "        vertical-align: middle;\n",
       "    }\n",
       "\n",
       "    .dataframe tbody tr th {\n",
       "        vertical-align: top;\n",
       "    }\n",
       "\n",
       "    .dataframe thead th {\n",
       "        text-align: right;\n",
       "    }\n",
       "</style>\n",
       "<table border=\"1\" class=\"dataframe\">\n",
       "  <thead>\n",
       "    <tr style=\"text-align: right;\">\n",
       "      <th></th>\n",
       "      <th>product_id</th>\n",
       "      <th>product_name</th>\n",
       "      <th>aisle_id</th>\n",
       "      <th>department_id</th>\n",
       "      <th>prices</th>\n",
       "    </tr>\n",
       "  </thead>\n",
       "  <tbody>\n",
       "    <tr>\n",
       "      <th>0</th>\n",
       "      <td>1</td>\n",
       "      <td>Chocolate Sandwich Cookies</td>\n",
       "      <td>61</td>\n",
       "      <td>19</td>\n",
       "      <td>5.8</td>\n",
       "    </tr>\n",
       "    <tr>\n",
       "      <th>1</th>\n",
       "      <td>2</td>\n",
       "      <td>All-Seasons Salt</td>\n",
       "      <td>104</td>\n",
       "      <td>13</td>\n",
       "      <td>9.3</td>\n",
       "    </tr>\n",
       "    <tr>\n",
       "      <th>2</th>\n",
       "      <td>3</td>\n",
       "      <td>Robust Golden Unsweetened Oolong Tea</td>\n",
       "      <td>94</td>\n",
       "      <td>7</td>\n",
       "      <td>4.5</td>\n",
       "    </tr>\n",
       "    <tr>\n",
       "      <th>3</th>\n",
       "      <td>4</td>\n",
       "      <td>Smart Ones Classic Favorites Mini Rigatoni Wit...</td>\n",
       "      <td>38</td>\n",
       "      <td>1</td>\n",
       "      <td>10.5</td>\n",
       "    </tr>\n",
       "    <tr>\n",
       "      <th>4</th>\n",
       "      <td>5</td>\n",
       "      <td>Green Chile Anytime Sauce</td>\n",
       "      <td>5</td>\n",
       "      <td>13</td>\n",
       "      <td>4.3</td>\n",
       "    </tr>\n",
       "  </tbody>\n",
       "</table>\n",
       "</div>"
      ],
      "text/plain": [
       "   product_id                                       product_name  aisle_id  \\\n",
       "0           1                         Chocolate Sandwich Cookies        61   \n",
       "1           2                                   All-Seasons Salt       104   \n",
       "2           3               Robust Golden Unsweetened Oolong Tea        94   \n",
       "3           4  Smart Ones Classic Favorites Mini Rigatoni Wit...        38   \n",
       "4           5                          Green Chile Anytime Sauce         5   \n",
       "\n",
       "   department_id  prices  \n",
       "0             19     5.8  \n",
       "1             13     9.3  \n",
       "2              7     4.5  \n",
       "3              1    10.5  \n",
       "4             13     4.3  "
      ]
     },
     "execution_count": 5,
     "metadata": {},
     "output_type": "execute_result"
    }
   ],
   "source": [
    "df.head() #show first 5 rows in the dataframe\n"
   ]
  },
  {
   "cell_type": "code",
   "execution_count": 6,
   "id": "d94b8226-3297-4448-9175-afa4b0ad5102",
   "metadata": {},
   "outputs": [
    {
     "data": {
      "text/html": [
       "<div>\n",
       "<style scoped>\n",
       "    .dataframe tbody tr th:only-of-type {\n",
       "        vertical-align: middle;\n",
       "    }\n",
       "\n",
       "    .dataframe tbody tr th {\n",
       "        vertical-align: top;\n",
       "    }\n",
       "\n",
       "    .dataframe thead th {\n",
       "        text-align: right;\n",
       "    }\n",
       "</style>\n",
       "<table border=\"1\" class=\"dataframe\">\n",
       "  <thead>\n",
       "    <tr style=\"text-align: right;\">\n",
       "      <th></th>\n",
       "      <th>product_id</th>\n",
       "      <th>product_name</th>\n",
       "      <th>aisle_id</th>\n",
       "      <th>department_id</th>\n",
       "      <th>prices</th>\n",
       "    </tr>\n",
       "  </thead>\n",
       "  <tbody>\n",
       "    <tr>\n",
       "      <th>49688</th>\n",
       "      <td>49684</td>\n",
       "      <td>Vodka, Triple Distilled, Twist of Vanilla</td>\n",
       "      <td>124</td>\n",
       "      <td>5</td>\n",
       "      <td>5.3</td>\n",
       "    </tr>\n",
       "    <tr>\n",
       "      <th>49689</th>\n",
       "      <td>49685</td>\n",
       "      <td>En Croute Roast Hazelnut Cranberry</td>\n",
       "      <td>42</td>\n",
       "      <td>1</td>\n",
       "      <td>3.1</td>\n",
       "    </tr>\n",
       "    <tr>\n",
       "      <th>49690</th>\n",
       "      <td>49686</td>\n",
       "      <td>Artisan Baguette</td>\n",
       "      <td>112</td>\n",
       "      <td>3</td>\n",
       "      <td>7.8</td>\n",
       "    </tr>\n",
       "    <tr>\n",
       "      <th>49691</th>\n",
       "      <td>49687</td>\n",
       "      <td>Smartblend Healthy Metabolism Dry Cat Food</td>\n",
       "      <td>41</td>\n",
       "      <td>8</td>\n",
       "      <td>4.7</td>\n",
       "    </tr>\n",
       "    <tr>\n",
       "      <th>49692</th>\n",
       "      <td>49688</td>\n",
       "      <td>Fresh Foaming Cleanser</td>\n",
       "      <td>73</td>\n",
       "      <td>11</td>\n",
       "      <td>13.5</td>\n",
       "    </tr>\n",
       "  </tbody>\n",
       "</table>\n",
       "</div>"
      ],
      "text/plain": [
       "       product_id                                product_name  aisle_id  \\\n",
       "49688       49684   Vodka, Triple Distilled, Twist of Vanilla       124   \n",
       "49689       49685          En Croute Roast Hazelnut Cranberry        42   \n",
       "49690       49686                            Artisan Baguette       112   \n",
       "49691       49687  Smartblend Healthy Metabolism Dry Cat Food        41   \n",
       "49692       49688                      Fresh Foaming Cleanser        73   \n",
       "\n",
       "       department_id  prices  \n",
       "49688              5     5.3  \n",
       "49689              1     3.1  \n",
       "49690              3     7.8  \n",
       "49691              8     4.7  \n",
       "49692             11    13.5  "
      ]
     },
     "execution_count": 6,
     "metadata": {},
     "output_type": "execute_result"
    }
   ],
   "source": [
    "df.tail() #show last 5 rows in the dataframe"
   ]
  },
  {
   "cell_type": "code",
   "execution_count": 7,
   "id": "ad46c9cd-bbad-4409-b4b5-a1bd5caf3069",
   "metadata": {},
   "outputs": [
    {
     "data": {
      "text/plain": [
       "product_id         int64\n",
       "product_name      object\n",
       "aisle_id           int64\n",
       "department_id      int64\n",
       "prices           float64\n",
       "dtype: object"
      ]
     },
     "execution_count": 7,
     "metadata": {},
     "output_type": "execute_result"
    }
   ],
   "source": [
    "df.dtypes # show datatypes of the dataframe"
   ]
  },
  {
   "cell_type": "code",
   "execution_count": 8,
   "id": "69b9768a-94cb-4970-b0b0-0aa82d2d44d9",
   "metadata": {},
   "outputs": [
    {
     "data": {
      "text/plain": [
       "Index(['product_id', 'product_name', 'aisle_id', 'department_id', 'prices'], dtype='object')"
      ]
     },
     "execution_count": 8,
     "metadata": {},
     "output_type": "execute_result"
    }
   ],
   "source": [
    "df.columns #show columns of the dataframe"
   ]
  },
  {
   "cell_type": "code",
   "execution_count": 9,
   "id": "8c17ab5a-a3bc-46be-b0ae-54e984261b9c",
   "metadata": {},
   "outputs": [
    {
     "data": {
      "text/html": [
       "<div>\n",
       "<style scoped>\n",
       "    .dataframe tbody tr th:only-of-type {\n",
       "        vertical-align: middle;\n",
       "    }\n",
       "\n",
       "    .dataframe tbody tr th {\n",
       "        vertical-align: top;\n",
       "    }\n",
       "\n",
       "    .dataframe thead th {\n",
       "        text-align: right;\n",
       "    }\n",
       "</style>\n",
       "<table border=\"1\" class=\"dataframe\">\n",
       "  <thead>\n",
       "    <tr style=\"text-align: right;\">\n",
       "      <th></th>\n",
       "      <th>product_id</th>\n",
       "      <th>aisle_id</th>\n",
       "      <th>department_id</th>\n",
       "      <th>prices</th>\n",
       "    </tr>\n",
       "  </thead>\n",
       "  <tbody>\n",
       "    <tr>\n",
       "      <th>count</th>\n",
       "      <td>49693.000000</td>\n",
       "      <td>49693.000000</td>\n",
       "      <td>49693.000000</td>\n",
       "      <td>49693.000000</td>\n",
       "    </tr>\n",
       "    <tr>\n",
       "      <th>mean</th>\n",
       "      <td>24844.345139</td>\n",
       "      <td>67.770249</td>\n",
       "      <td>11.728433</td>\n",
       "      <td>9.994136</td>\n",
       "    </tr>\n",
       "    <tr>\n",
       "      <th>std</th>\n",
       "      <td>14343.717401</td>\n",
       "      <td>38.316774</td>\n",
       "      <td>5.850282</td>\n",
       "      <td>453.519686</td>\n",
       "    </tr>\n",
       "    <tr>\n",
       "      <th>min</th>\n",
       "      <td>1.000000</td>\n",
       "      <td>1.000000</td>\n",
       "      <td>1.000000</td>\n",
       "      <td>1.000000</td>\n",
       "    </tr>\n",
       "    <tr>\n",
       "      <th>25%</th>\n",
       "      <td>12423.000000</td>\n",
       "      <td>35.000000</td>\n",
       "      <td>7.000000</td>\n",
       "      <td>4.100000</td>\n",
       "    </tr>\n",
       "    <tr>\n",
       "      <th>50%</th>\n",
       "      <td>24845.000000</td>\n",
       "      <td>69.000000</td>\n",
       "      <td>13.000000</td>\n",
       "      <td>7.100000</td>\n",
       "    </tr>\n",
       "    <tr>\n",
       "      <th>75%</th>\n",
       "      <td>37265.000000</td>\n",
       "      <td>100.000000</td>\n",
       "      <td>17.000000</td>\n",
       "      <td>11.200000</td>\n",
       "    </tr>\n",
       "    <tr>\n",
       "      <th>max</th>\n",
       "      <td>49688.000000</td>\n",
       "      <td>134.000000</td>\n",
       "      <td>21.000000</td>\n",
       "      <td>99999.000000</td>\n",
       "    </tr>\n",
       "  </tbody>\n",
       "</table>\n",
       "</div>"
      ],
      "text/plain": [
       "         product_id      aisle_id  department_id        prices\n",
       "count  49693.000000  49693.000000   49693.000000  49693.000000\n",
       "mean   24844.345139     67.770249      11.728433      9.994136\n",
       "std    14343.717401     38.316774       5.850282    453.519686\n",
       "min        1.000000      1.000000       1.000000      1.000000\n",
       "25%    12423.000000     35.000000       7.000000      4.100000\n",
       "50%    24845.000000     69.000000      13.000000      7.100000\n",
       "75%    37265.000000    100.000000      17.000000     11.200000\n",
       "max    49688.000000    134.000000      21.000000  99999.000000"
      ]
     },
     "execution_count": 9,
     "metadata": {},
     "output_type": "execute_result"
    }
   ],
   "source": [
    "df.describe() # get some details about the dataframe"
   ]
  },
  {
   "cell_type": "code",
   "execution_count": 10,
   "id": "c059f33b-ec41-42d9-ab86-ba4c5d7904c7",
   "metadata": {},
   "outputs": [
    {
     "data": {
      "text/html": [
       "<div>\n",
       "<style scoped>\n",
       "    .dataframe tbody tr th:only-of-type {\n",
       "        vertical-align: middle;\n",
       "    }\n",
       "\n",
       "    .dataframe tbody tr th {\n",
       "        vertical-align: top;\n",
       "    }\n",
       "\n",
       "    .dataframe thead th {\n",
       "        text-align: right;\n",
       "    }\n",
       "</style>\n",
       "<table border=\"1\" class=\"dataframe\">\n",
       "  <thead>\n",
       "    <tr style=\"text-align: right;\">\n",
       "      <th></th>\n",
       "      <th>product_id</th>\n",
       "      <th>product_name</th>\n",
       "      <th>aisle_id</th>\n",
       "      <th>department_id</th>\n",
       "    </tr>\n",
       "  </thead>\n",
       "  <tbody>\n",
       "    <tr>\n",
       "      <th>0</th>\n",
       "      <td>1</td>\n",
       "      <td>Chocolate Sandwich Cookies</td>\n",
       "      <td>61</td>\n",
       "      <td>19</td>\n",
       "    </tr>\n",
       "    <tr>\n",
       "      <th>1</th>\n",
       "      <td>2</td>\n",
       "      <td>All-Seasons Salt</td>\n",
       "      <td>104</td>\n",
       "      <td>13</td>\n",
       "    </tr>\n",
       "    <tr>\n",
       "      <th>2</th>\n",
       "      <td>3</td>\n",
       "      <td>Robust Golden Unsweetened Oolong Tea</td>\n",
       "      <td>94</td>\n",
       "      <td>7</td>\n",
       "    </tr>\n",
       "    <tr>\n",
       "      <th>3</th>\n",
       "      <td>4</td>\n",
       "      <td>Smart Ones Classic Favorites Mini Rigatoni Wit...</td>\n",
       "      <td>38</td>\n",
       "      <td>1</td>\n",
       "    </tr>\n",
       "    <tr>\n",
       "      <th>4</th>\n",
       "      <td>5</td>\n",
       "      <td>Green Chile Anytime Sauce</td>\n",
       "      <td>5</td>\n",
       "      <td>13</td>\n",
       "    </tr>\n",
       "    <tr>\n",
       "      <th>...</th>\n",
       "      <td>...</td>\n",
       "      <td>...</td>\n",
       "      <td>...</td>\n",
       "      <td>...</td>\n",
       "    </tr>\n",
       "    <tr>\n",
       "      <th>49688</th>\n",
       "      <td>49684</td>\n",
       "      <td>Vodka, Triple Distilled, Twist of Vanilla</td>\n",
       "      <td>124</td>\n",
       "      <td>5</td>\n",
       "    </tr>\n",
       "    <tr>\n",
       "      <th>49689</th>\n",
       "      <td>49685</td>\n",
       "      <td>En Croute Roast Hazelnut Cranberry</td>\n",
       "      <td>42</td>\n",
       "      <td>1</td>\n",
       "    </tr>\n",
       "    <tr>\n",
       "      <th>49690</th>\n",
       "      <td>49686</td>\n",
       "      <td>Artisan Baguette</td>\n",
       "      <td>112</td>\n",
       "      <td>3</td>\n",
       "    </tr>\n",
       "    <tr>\n",
       "      <th>49691</th>\n",
       "      <td>49687</td>\n",
       "      <td>Smartblend Healthy Metabolism Dry Cat Food</td>\n",
       "      <td>41</td>\n",
       "      <td>8</td>\n",
       "    </tr>\n",
       "    <tr>\n",
       "      <th>49692</th>\n",
       "      <td>49688</td>\n",
       "      <td>Fresh Foaming Cleanser</td>\n",
       "      <td>73</td>\n",
       "      <td>11</td>\n",
       "    </tr>\n",
       "  </tbody>\n",
       "</table>\n",
       "<p>49693 rows × 4 columns</p>\n",
       "</div>"
      ],
      "text/plain": [
       "       product_id                                       product_name  \\\n",
       "0               1                         Chocolate Sandwich Cookies   \n",
       "1               2                                   All-Seasons Salt   \n",
       "2               3               Robust Golden Unsweetened Oolong Tea   \n",
       "3               4  Smart Ones Classic Favorites Mini Rigatoni Wit...   \n",
       "4               5                          Green Chile Anytime Sauce   \n",
       "...           ...                                                ...   \n",
       "49688       49684          Vodka, Triple Distilled, Twist of Vanilla   \n",
       "49689       49685                 En Croute Roast Hazelnut Cranberry   \n",
       "49690       49686                                   Artisan Baguette   \n",
       "49691       49687         Smartblend Healthy Metabolism Dry Cat Food   \n",
       "49692       49688                             Fresh Foaming Cleanser   \n",
       "\n",
       "       aisle_id  department_id  \n",
       "0            61             19  \n",
       "1           104             13  \n",
       "2            94              7  \n",
       "3            38              1  \n",
       "4             5             13  \n",
       "...         ...            ...  \n",
       "49688       124              5  \n",
       "49689        42              1  \n",
       "49690       112              3  \n",
       "49691        41              8  \n",
       "49692        73             11  \n",
       "\n",
       "[49693 rows x 4 columns]"
      ]
     },
     "execution_count": 10,
     "metadata": {},
     "output_type": "execute_result"
    }
   ],
   "source": [
    "df.drop(columns=['prices']) #drop a column"
   ]
  },
  {
   "cell_type": "code",
   "execution_count": 11,
   "id": "33051917-f201-4206-8af8-5027b92db4dc",
   "metadata": {},
   "outputs": [
    {
     "data": {
      "text/plain": [
       "product_id\n",
       "6800     2\n",
       "35491    2\n",
       "18458    2\n",
       "462      2\n",
       "35306    2\n",
       "        ..\n",
       "16567    1\n",
       "16568    1\n",
       "16569    1\n",
       "16570    1\n",
       "49688    1\n",
       "Name: count, Length: 49686, dtype: int64"
      ]
     },
     "execution_count": 11,
     "metadata": {},
     "output_type": "execute_result"
    }
   ],
   "source": [
    "df['product_id'].value_counts(dropna=False) # show how many a data in a certain column repeated"
   ]
  },
  {
   "cell_type": "code",
   "execution_count": 12,
   "id": "d979ec05-f5a6-44ec-8ff5-a881dcf8f0c5",
   "metadata": {},
   "outputs": [
    {
     "data": {
      "text/html": [
       "<div>\n",
       "<style scoped>\n",
       "    .dataframe tbody tr th:only-of-type {\n",
       "        vertical-align: middle;\n",
       "    }\n",
       "\n",
       "    .dataframe tbody tr th {\n",
       "        vertical-align: top;\n",
       "    }\n",
       "\n",
       "    .dataframe thead th {\n",
       "        text-align: right;\n",
       "    }\n",
       "</style>\n",
       "<table border=\"1\" class=\"dataframe\">\n",
       "  <thead>\n",
       "    <tr style=\"text-align: right;\">\n",
       "      <th></th>\n",
       "      <th>ID</th>\n",
       "      <th>product_name</th>\n",
       "      <th>aisle_id</th>\n",
       "      <th>department_id</th>\n",
       "      <th>prices</th>\n",
       "    </tr>\n",
       "  </thead>\n",
       "  <tbody>\n",
       "    <tr>\n",
       "      <th>0</th>\n",
       "      <td>1</td>\n",
       "      <td>Chocolate Sandwich Cookies</td>\n",
       "      <td>61</td>\n",
       "      <td>19</td>\n",
       "      <td>5.8</td>\n",
       "    </tr>\n",
       "    <tr>\n",
       "      <th>1</th>\n",
       "      <td>2</td>\n",
       "      <td>All-Seasons Salt</td>\n",
       "      <td>104</td>\n",
       "      <td>13</td>\n",
       "      <td>9.3</td>\n",
       "    </tr>\n",
       "    <tr>\n",
       "      <th>2</th>\n",
       "      <td>3</td>\n",
       "      <td>Robust Golden Unsweetened Oolong Tea</td>\n",
       "      <td>94</td>\n",
       "      <td>7</td>\n",
       "      <td>4.5</td>\n",
       "    </tr>\n",
       "    <tr>\n",
       "      <th>3</th>\n",
       "      <td>4</td>\n",
       "      <td>Smart Ones Classic Favorites Mini Rigatoni Wit...</td>\n",
       "      <td>38</td>\n",
       "      <td>1</td>\n",
       "      <td>10.5</td>\n",
       "    </tr>\n",
       "    <tr>\n",
       "      <th>4</th>\n",
       "      <td>5</td>\n",
       "      <td>Green Chile Anytime Sauce</td>\n",
       "      <td>5</td>\n",
       "      <td>13</td>\n",
       "      <td>4.3</td>\n",
       "    </tr>\n",
       "    <tr>\n",
       "      <th>5</th>\n",
       "      <td>6</td>\n",
       "      <td>Dry Nose Oil</td>\n",
       "      <td>11</td>\n",
       "      <td>11</td>\n",
       "      <td>2.6</td>\n",
       "    </tr>\n",
       "    <tr>\n",
       "      <th>6</th>\n",
       "      <td>7</td>\n",
       "      <td>Pure Coconut Water With Orange</td>\n",
       "      <td>98</td>\n",
       "      <td>7</td>\n",
       "      <td>4.4</td>\n",
       "    </tr>\n",
       "    <tr>\n",
       "      <th>7</th>\n",
       "      <td>8</td>\n",
       "      <td>Cut Russet Potatoes Steam N' Mash</td>\n",
       "      <td>116</td>\n",
       "      <td>1</td>\n",
       "      <td>1.1</td>\n",
       "    </tr>\n",
       "    <tr>\n",
       "      <th>8</th>\n",
       "      <td>9</td>\n",
       "      <td>Light Strawberry Blueberry Yogurt</td>\n",
       "      <td>120</td>\n",
       "      <td>16</td>\n",
       "      <td>7.0</td>\n",
       "    </tr>\n",
       "    <tr>\n",
       "      <th>9</th>\n",
       "      <td>10</td>\n",
       "      <td>Sparkling Orange Juice &amp; Prickly Pear Beverage</td>\n",
       "      <td>115</td>\n",
       "      <td>7</td>\n",
       "      <td>8.4</td>\n",
       "    </tr>\n",
       "  </tbody>\n",
       "</table>\n",
       "</div>"
      ],
      "text/plain": [
       "   ID                                       product_name  aisle_id  \\\n",
       "0   1                         Chocolate Sandwich Cookies        61   \n",
       "1   2                                   All-Seasons Salt       104   \n",
       "2   3               Robust Golden Unsweetened Oolong Tea        94   \n",
       "3   4  Smart Ones Classic Favorites Mini Rigatoni Wit...        38   \n",
       "4   5                          Green Chile Anytime Sauce         5   \n",
       "5   6                                       Dry Nose Oil        11   \n",
       "6   7                     Pure Coconut Water With Orange        98   \n",
       "7   8                  Cut Russet Potatoes Steam N' Mash       116   \n",
       "8   9                  Light Strawberry Blueberry Yogurt       120   \n",
       "9  10     Sparkling Orange Juice & Prickly Pear Beverage       115   \n",
       "\n",
       "   department_id  prices  \n",
       "0             19     5.8  \n",
       "1             13     9.3  \n",
       "2              7     4.5  \n",
       "3              1    10.5  \n",
       "4             13     4.3  \n",
       "5             11     2.6  \n",
       "6              7     4.4  \n",
       "7              1     1.1  \n",
       "8             16     7.0  \n",
       "9              7     8.4  "
      ]
     },
     "execution_count": 12,
     "metadata": {},
     "output_type": "execute_result"
    }
   ],
   "source": [
    "df.rename(columns={\"product_id\":'ID'},inplace=True) # rename a column\n",
    "df.head(10) # show first 10 of dataframe"
   ]
  },
  {
   "cell_type": "code",
   "execution_count": 13,
   "id": "0c3f9a74-058d-4c25-a297-b0e98dd852e8",
   "metadata": {},
   "outputs": [],
   "source": [
    "df['ID']=df['ID'].astype('float') #change data type"
   ]
  },
  {
   "cell_type": "markdown",
   "id": "c2ec61fd",
   "metadata": {},
   "source": [
    "# 2"
   ]
  },
  {
   "cell_type": "code",
   "execution_count": 14,
   "id": "d432dd18-a10e-4e8c-a09d-3670cf81924c",
   "metadata": {},
   "outputs": [],
   "source": [
    "df_ords=pd.read_csv(r'D:\\\\Mazen Essam\\\\Machine Learning course\\\\ENG Mohamed Documentary\\\\orders.csv',index_col=False)"
   ]
  },
  {
   "cell_type": "code",
   "execution_count": 15,
   "id": "dd6d7202",
   "metadata": {},
   "outputs": [
    {
     "name": "stdout",
     "output_type": "stream",
     "text": [
      "<class 'pandas.core.frame.DataFrame'>\n",
      "RangeIndex: 3421083 entries, 0 to 3421082\n",
      "Data columns (total 7 columns):\n",
      " #   Column                  Dtype  \n",
      "---  ------                  -----  \n",
      " 0   order_id                int64  \n",
      " 1   user_id                 int64  \n",
      " 2   eval_set                object \n",
      " 3   order_number            int64  \n",
      " 4   order_dow               int64  \n",
      " 5   order_hour_of_day       int64  \n",
      " 6   days_since_prior_order  float64\n",
      "dtypes: float64(1), int64(5), object(1)\n",
      "memory usage: 182.7+ MB\n"
     ]
    }
   ],
   "source": [
    "df_ords.info()"
   ]
  },
  {
   "cell_type": "markdown",
   "id": "df7d2e91-b2f0-47a3-88b4-d131176c1cbf",
   "metadata": {},
   "source": [
    "#### change any id to string as we don't need to make any operations on them "
   ]
  },
  {
   "cell_type": "code",
   "execution_count": 16,
   "id": "f3381b00",
   "metadata": {},
   "outputs": [
    {
     "data": {
      "text/plain": [
       "order_id                  string[python]\n",
       "user_id                   string[python]\n",
       "eval_set                          object\n",
       "order_number                       int64\n",
       "order_dow                          int64\n",
       "order_hour_of_day                  int64\n",
       "days_since_prior_order           float64\n",
       "dtype: object"
      ]
     },
     "execution_count": 16,
     "metadata": {},
     "output_type": "execute_result"
    }
   ],
   "source": [
    "df_ords['order_id']=df_ords['order_id'].astype('string') # change data type of id to be string\n",
    "df_ords['user_id']=df_ords['user_id'].astype('string')\n",
    "df_ords.dtypes"
   ]
  },
  {
   "cell_type": "markdown",
   "id": "6bf9f4e1",
   "metadata": {},
   "source": [
    "# 3"
   ]
  },
  {
   "cell_type": "code",
   "execution_count": 17,
   "id": "72321c8c",
   "metadata": {},
   "outputs": [],
   "source": [
    "df_ords.rename(columns={\"order_dow\":'order_day'},inplace=True) # rename order_dow to order_day"
   ]
  },
  {
   "cell_type": "code",
   "execution_count": 18,
   "id": "3f0b0d85",
   "metadata": {},
   "outputs": [
    {
     "data": {
      "text/plain": [
       "Index(['order_id', 'user_id', 'eval_set', 'order_number', 'order_day',\n",
       "       'order_hour_of_day', 'days_since_prior_order'],\n",
       "      dtype='object')"
      ]
     },
     "execution_count": 18,
     "metadata": {},
     "output_type": "execute_result"
    }
   ],
   "source": [
    "df_ords.columns # show columns"
   ]
  },
  {
   "cell_type": "markdown",
   "id": "6e07d2ad",
   "metadata": {},
   "source": [
    "# 4"
   ]
  },
  {
   "cell_type": "code",
   "execution_count": 19,
   "id": "d86ecc01",
   "metadata": {},
   "outputs": [
    {
     "name": "stdout",
     "output_type": "stream",
     "text": [
      "Highst orders' Hour in the day is 10\n"
     ]
    }
   ],
   "source": [
    "HOURS=df_ords['order_hour_of_day'].value_counts(dropna=False) #get how many the data in order_hour_of_day repeated\n",
    "HOURS.sort_index # sort data\n",
    "print(f\"Highst orders\\' Hour in the day is {HOURS.keys()[0]}\")"
   ]
  },
  {
   "cell_type": "markdown",
   "id": "1114256a",
   "metadata": {},
   "source": [
    "# 5"
   ]
  },
  {
   "cell_type": "markdown",
   "id": "76275e5f",
   "metadata": {},
   "source": [
    "#### Read csv file "
   ]
  },
  {
   "cell_type": "code",
   "execution_count": 20,
   "id": "3dff09ee",
   "metadata": {},
   "outputs": [],
   "source": [
    "\n",
    "df_prod=pd.read_csv(r'D:\\\\Mazen Essam\\\\Machine Learning course\\\\ENG Mohamed Documentary\\\\products.csv',index_col=False)\n"
   ]
  },
  {
   "cell_type": "markdown",
   "id": "500100b3",
   "metadata": {},
   "source": [
    "#### Converting the departments in the dataframe to dictionary "
   ]
  },
  {
   "cell_type": "code",
   "execution_count": 21,
   "id": "36051154-eb1e-4d2c-be50-4c49f1cd0d8c",
   "metadata": {},
   "outputs": [],
   "source": [
    "df_new=dict()\n",
    "mx=max(df_prod[\"department_id\"])\n",
    "mn=min(df_prod[\"department_id\"])\n",
    "\n",
    "for i in range(mn,mx+1) :\n",
    "    arr=[]\n",
    "    for j in range(len(df_prod)):\n",
    "        if ((df_prod.iloc[j,3]))==i :\n",
    "            arr.append(df_prod.iloc[j,1])\n",
    "    df_new.update({i:arr})         \n",
    "\n",
    "\n"
   ]
  },
  {
   "cell_type": "markdown",
   "id": "a2b432b9",
   "metadata": {},
   "source": [
    "#### Showing keys of the dict\n"
   ]
  },
  {
   "cell_type": "code",
   "execution_count": 22,
   "id": "6880d08a",
   "metadata": {},
   "outputs": [
    {
     "data": {
      "text/plain": [
       "dict_keys([1, 2, 3, 4, 5, 6, 7, 8, 9, 10, 11, 12, 13, 14, 15, 16, 17, 18, 19, 20, 21])"
      ]
     },
     "execution_count": 22,
     "metadata": {},
     "output_type": "execute_result"
    }
   ],
   "source": [
    "df_new.keys()\n"
   ]
  },
  {
   "cell_type": "markdown",
   "id": "49665bd4",
   "metadata": {},
   "source": [
    "#### The values of key 4"
   ]
  },
  {
   "cell_type": "code",
   "execution_count": 29,
   "id": "f6d16400",
   "metadata": {},
   "outputs": [
    {
     "data": {
      "text/plain": [
       "['Organic Clementines',\n",
       " 'European Cucumber',\n",
       " 'European Style Spring Mix',\n",
       " 'Yogurt Fruit Dip Sliced Apples',\n",
       " 'Local Living Butter Lettuce',\n",
       " 'Cauliflower Florettes',\n",
       " 'Arugula Salad',\n",
       " 'Organic Lemons',\n",
       " 'Nectarines',\n",
       " 'Living Organic Cilantro',\n",
       " 'Herb Thyme Clamshell',\n",
       " 'Cantaloupe',\n",
       " 'Gold Potatoes',\n",
       " 'Juicing Carrots',\n",
       " 'Organic Whole Peeled Baby Carrots',\n",
       " 'Vegetable Salad Kit, Sweet Kale',\n",
       " 'Greener Selection Salad',\n",
       " 'Clementine Bag',\n",
       " 'Mache Blend']"
      ]
     },
     "execution_count": 29,
     "metadata": {},
     "output_type": "execute_result"
    }
   ],
   "source": [
    "(df_new[4])[1:20]"
   ]
  },
  {
   "cell_type": "markdown",
   "id": "f1420a68",
   "metadata": {},
   "source": [
    "data of department 4 consists of vegetables"
   ]
  },
  {
   "cell_type": "markdown",
   "id": "2fd02828",
   "metadata": {},
   "source": [
    "# 6\n",
    "#### Subset department_id=14 (Breakfast)"
   ]
  },
  {
   "cell_type": "code",
   "execution_count": 24,
   "id": "2c11d45b",
   "metadata": {},
   "outputs": [
    {
     "data": {
      "text/html": [
       "<div>\n",
       "<style scoped>\n",
       "    .dataframe tbody tr th:only-of-type {\n",
       "        vertical-align: middle;\n",
       "    }\n",
       "\n",
       "    .dataframe tbody tr th {\n",
       "        vertical-align: top;\n",
       "    }\n",
       "\n",
       "    .dataframe thead th {\n",
       "        text-align: right;\n",
       "    }\n",
       "</style>\n",
       "<table border=\"1\" class=\"dataframe\">\n",
       "  <thead>\n",
       "    <tr style=\"text-align: right;\">\n",
       "      <th></th>\n",
       "      <th>product_id</th>\n",
       "      <th>product_name</th>\n",
       "      <th>aisle_id</th>\n",
       "      <th>department_id</th>\n",
       "      <th>prices</th>\n",
       "    </tr>\n",
       "  </thead>\n",
       "  <tbody>\n",
       "    <tr>\n",
       "      <th>27</th>\n",
       "      <td>28</td>\n",
       "      <td>Wheat Chex Cereal</td>\n",
       "      <td>121</td>\n",
       "      <td>14</td>\n",
       "      <td>10.1</td>\n",
       "    </tr>\n",
       "    <tr>\n",
       "      <th>33</th>\n",
       "      <td>34</td>\n",
       "      <td>NaN</td>\n",
       "      <td>121</td>\n",
       "      <td>14</td>\n",
       "      <td>12.2</td>\n",
       "    </tr>\n",
       "    <tr>\n",
       "      <th>67</th>\n",
       "      <td>68</td>\n",
       "      <td>Pancake Mix, Buttermilk</td>\n",
       "      <td>130</td>\n",
       "      <td>14</td>\n",
       "      <td>13.7</td>\n",
       "    </tr>\n",
       "    <tr>\n",
       "      <th>89</th>\n",
       "      <td>90</td>\n",
       "      <td>Smorz Cereal</td>\n",
       "      <td>121</td>\n",
       "      <td>14</td>\n",
       "      <td>3.9</td>\n",
       "    </tr>\n",
       "    <tr>\n",
       "      <th>210</th>\n",
       "      <td>211</td>\n",
       "      <td>Gluten Free Organic Cereal Coconut Maple Vanilla</td>\n",
       "      <td>130</td>\n",
       "      <td>14</td>\n",
       "      <td>3.6</td>\n",
       "    </tr>\n",
       "    <tr>\n",
       "      <th>...</th>\n",
       "      <td>...</td>\n",
       "      <td>...</td>\n",
       "      <td>...</td>\n",
       "      <td>...</td>\n",
       "      <td>...</td>\n",
       "    </tr>\n",
       "    <tr>\n",
       "      <th>49330</th>\n",
       "      <td>49326</td>\n",
       "      <td>Cereal Variety Fun Pack</td>\n",
       "      <td>121</td>\n",
       "      <td>14</td>\n",
       "      <td>9.1</td>\n",
       "    </tr>\n",
       "    <tr>\n",
       "      <th>49395</th>\n",
       "      <td>49391</td>\n",
       "      <td>Light and Fluffy Buttermilk Pancake Mix</td>\n",
       "      <td>130</td>\n",
       "      <td>14</td>\n",
       "      <td>2.0</td>\n",
       "    </tr>\n",
       "    <tr>\n",
       "      <th>49547</th>\n",
       "      <td>49543</td>\n",
       "      <td>Chocolate Cheerios Cereal</td>\n",
       "      <td>121</td>\n",
       "      <td>14</td>\n",
       "      <td>10.8</td>\n",
       "    </tr>\n",
       "    <tr>\n",
       "      <th>49637</th>\n",
       "      <td>49633</td>\n",
       "      <td>Shake 'N Pour Buttermilk Pancake Mix</td>\n",
       "      <td>130</td>\n",
       "      <td>14</td>\n",
       "      <td>14.2</td>\n",
       "    </tr>\n",
       "    <tr>\n",
       "      <th>49667</th>\n",
       "      <td>49663</td>\n",
       "      <td>Ultra Protein Power Crunch Peanut Butter N' Ho...</td>\n",
       "      <td>57</td>\n",
       "      <td>14</td>\n",
       "      <td>10.2</td>\n",
       "    </tr>\n",
       "  </tbody>\n",
       "</table>\n",
       "<p>1116 rows × 5 columns</p>\n",
       "</div>"
      ],
      "text/plain": [
       "       product_id                                       product_name  \\\n",
       "27             28                                  Wheat Chex Cereal   \n",
       "33             34                                                NaN   \n",
       "67             68                            Pancake Mix, Buttermilk   \n",
       "89             90                                       Smorz Cereal   \n",
       "210           211   Gluten Free Organic Cereal Coconut Maple Vanilla   \n",
       "...           ...                                                ...   \n",
       "49330       49326                            Cereal Variety Fun Pack   \n",
       "49395       49391            Light and Fluffy Buttermilk Pancake Mix   \n",
       "49547       49543                          Chocolate Cheerios Cereal   \n",
       "49637       49633               Shake 'N Pour Buttermilk Pancake Mix   \n",
       "49667       49663  Ultra Protein Power Crunch Peanut Butter N' Ho...   \n",
       "\n",
       "       aisle_id  department_id  prices  \n",
       "27          121             14    10.1  \n",
       "33          121             14    12.2  \n",
       "67          130             14    13.7  \n",
       "89          121             14     3.9  \n",
       "210         130             14     3.6  \n",
       "...         ...            ...     ...  \n",
       "49330       121             14     9.1  \n",
       "49395       130             14     2.0  \n",
       "49547       121             14    10.8  \n",
       "49637       130             14    14.2  \n",
       "49667        57             14    10.2  \n",
       "\n",
       "[1116 rows x 5 columns]"
      ]
     },
     "execution_count": 24,
     "metadata": {},
     "output_type": "execute_result"
    }
   ],
   "source": [
    "df_BF=df_prod.query('department_id==14') # making a subset according to numbet of department_id\n",
    "df_BF"
   ]
  },
  {
   "cell_type": "markdown",
   "id": "0f9bb1eb",
   "metadata": {},
   "source": [
    "# 7\n",
    "#### subset department_id= 5 , 20 , 7 , 12 (alcohol, deli, beverages, and meat/seafood)"
   ]
  },
  {
   "cell_type": "code",
   "execution_count": 25,
   "id": "7a26153e",
   "metadata": {},
   "outputs": [],
   "source": [
    "df_DN=df_prod.query('department_id==[5,20,7,12]') # making a subset according to numbet of department_id\n"
   ]
  },
  {
   "cell_type": "markdown",
   "id": "2d5cf8e5",
   "metadata": {},
   "source": [
    "#### Sort the subset according to department_id"
   ]
  },
  {
   "cell_type": "code",
   "execution_count": 26,
   "id": "049f2a1c",
   "metadata": {},
   "outputs": [
    {
     "data": {
      "text/html": [
       "<div>\n",
       "<style scoped>\n",
       "    .dataframe tbody tr th:only-of-type {\n",
       "        vertical-align: middle;\n",
       "    }\n",
       "\n",
       "    .dataframe tbody tr th {\n",
       "        vertical-align: top;\n",
       "    }\n",
       "\n",
       "    .dataframe thead th {\n",
       "        text-align: right;\n",
       "    }\n",
       "</style>\n",
       "<table border=\"1\" class=\"dataframe\">\n",
       "  <thead>\n",
       "    <tr style=\"text-align: right;\">\n",
       "      <th></th>\n",
       "      <th>product_id</th>\n",
       "      <th>product_name</th>\n",
       "      <th>aisle_id</th>\n",
       "      <th>department_id</th>\n",
       "      <th>prices</th>\n",
       "    </tr>\n",
       "  </thead>\n",
       "  <tbody>\n",
       "    <tr>\n",
       "      <th>49688</th>\n",
       "      <td>49684</td>\n",
       "      <td>Vodka, Triple Distilled, Twist of Vanilla</td>\n",
       "      <td>124</td>\n",
       "      <td>5</td>\n",
       "      <td>5.3</td>\n",
       "    </tr>\n",
       "    <tr>\n",
       "      <th>36276</th>\n",
       "      <td>36272</td>\n",
       "      <td>Kali Hart Pinot Noir</td>\n",
       "      <td>28</td>\n",
       "      <td>5</td>\n",
       "      <td>11.6</td>\n",
       "    </tr>\n",
       "    <tr>\n",
       "      <th>10802</th>\n",
       "      <td>10802</td>\n",
       "      <td>Diamond Junmai Ginjo Saké</td>\n",
       "      <td>134</td>\n",
       "      <td>5</td>\n",
       "      <td>9.5</td>\n",
       "    </tr>\n",
       "    <tr>\n",
       "      <th>10702</th>\n",
       "      <td>10702</td>\n",
       "      <td>California Red Wine</td>\n",
       "      <td>28</td>\n",
       "      <td>5</td>\n",
       "      <td>3.0</td>\n",
       "    </tr>\n",
       "    <tr>\n",
       "      <th>36423</th>\n",
       "      <td>36419</td>\n",
       "      <td>Cashmere</td>\n",
       "      <td>28</td>\n",
       "      <td>5</td>\n",
       "      <td>9.5</td>\n",
       "    </tr>\n",
       "    <tr>\n",
       "      <th>...</th>\n",
       "      <td>...</td>\n",
       "      <td>...</td>\n",
       "      <td>...</td>\n",
       "      <td>...</td>\n",
       "      <td>...</td>\n",
       "    </tr>\n",
       "    <tr>\n",
       "      <th>15767</th>\n",
       "      <td>15767</td>\n",
       "      <td>Blackened Chicken Salad</td>\n",
       "      <td>1</td>\n",
       "      <td>20</td>\n",
       "      <td>11.1</td>\n",
       "    </tr>\n",
       "    <tr>\n",
       "      <th>26384</th>\n",
       "      <td>26383</td>\n",
       "      <td>Beef Cotto Salami</td>\n",
       "      <td>96</td>\n",
       "      <td>20</td>\n",
       "      <td>11.2</td>\n",
       "    </tr>\n",
       "    <tr>\n",
       "      <th>40692</th>\n",
       "      <td>40688</td>\n",
       "      <td>Spinach Artichoke Dip</td>\n",
       "      <td>67</td>\n",
       "      <td>20</td>\n",
       "      <td>1.7</td>\n",
       "    </tr>\n",
       "    <tr>\n",
       "      <th>32902</th>\n",
       "      <td>32900</td>\n",
       "      <td>Paneer Tikka Masala</td>\n",
       "      <td>13</td>\n",
       "      <td>20</td>\n",
       "      <td>2.3</td>\n",
       "    </tr>\n",
       "    <tr>\n",
       "      <th>7520</th>\n",
       "      <td>7520</td>\n",
       "      <td>Tempeh, Organic, Soy Cake</td>\n",
       "      <td>14</td>\n",
       "      <td>20</td>\n",
       "      <td>10.0</td>\n",
       "    </tr>\n",
       "  </tbody>\n",
       "</table>\n",
       "<p>7650 rows × 5 columns</p>\n",
       "</div>"
      ],
      "text/plain": [
       "       product_id                               product_name  aisle_id  \\\n",
       "49688       49684  Vodka, Triple Distilled, Twist of Vanilla       124   \n",
       "36276       36272                       Kali Hart Pinot Noir        28   \n",
       "10802       10802                  Diamond Junmai Ginjo Saké       134   \n",
       "10702       10702                        California Red Wine        28   \n",
       "36423       36419                                   Cashmere        28   \n",
       "...           ...                                        ...       ...   \n",
       "15767       15767                    Blackened Chicken Salad         1   \n",
       "26384       26383                          Beef Cotto Salami        96   \n",
       "40692       40688                      Spinach Artichoke Dip        67   \n",
       "32902       32900                        Paneer Tikka Masala        13   \n",
       "7520         7520                  Tempeh, Organic, Soy Cake        14   \n",
       "\n",
       "       department_id  prices  \n",
       "49688              5     5.3  \n",
       "36276              5    11.6  \n",
       "10802              5     9.5  \n",
       "10702              5     3.0  \n",
       "36423              5     9.5  \n",
       "...              ...     ...  \n",
       "15767             20    11.1  \n",
       "26384             20    11.2  \n",
       "40692             20     1.7  \n",
       "32902             20     2.3  \n",
       "7520              20    10.0  \n",
       "\n",
       "[7650 rows x 5 columns]"
      ]
     },
     "execution_count": 26,
     "metadata": {},
     "output_type": "execute_result"
    }
   ],
   "source": [
    "df_DN.sort_values(by=['department_id']) #sort values of department_id"
   ]
  },
  {
   "cell_type": "markdown",
   "id": "20cf003f",
   "metadata": {},
   "source": [
    "# 8\n",
    "#### The last dataframe created (df_DN) consists of 7650 rows x 5 columns "
   ]
  },
  {
   "cell_type": "markdown",
   "id": "57b1af84",
   "metadata": {},
   "source": [
    "# 9\n",
    "#### showing data of used_id 1"
   ]
  },
  {
   "cell_type": "code",
   "execution_count": 27,
   "id": "2625b6b7",
   "metadata": {},
   "outputs": [
    {
     "data": {
      "text/html": [
       "<div>\n",
       "<style scoped>\n",
       "    .dataframe tbody tr th:only-of-type {\n",
       "        vertical-align: middle;\n",
       "    }\n",
       "\n",
       "    .dataframe tbody tr th {\n",
       "        vertical-align: top;\n",
       "    }\n",
       "\n",
       "    .dataframe thead th {\n",
       "        text-align: right;\n",
       "    }\n",
       "</style>\n",
       "<table border=\"1\" class=\"dataframe\">\n",
       "  <thead>\n",
       "    <tr style=\"text-align: right;\">\n",
       "      <th></th>\n",
       "      <th>order_id</th>\n",
       "      <th>user_id</th>\n",
       "      <th>eval_set</th>\n",
       "      <th>order_number</th>\n",
       "      <th>order_day</th>\n",
       "      <th>order_hour_of_day</th>\n",
       "      <th>days_since_prior_order</th>\n",
       "    </tr>\n",
       "  </thead>\n",
       "  <tbody>\n",
       "    <tr>\n",
       "      <th>0</th>\n",
       "      <td>2539329</td>\n",
       "      <td>1</td>\n",
       "      <td>prior</td>\n",
       "      <td>1</td>\n",
       "      <td>2</td>\n",
       "      <td>8</td>\n",
       "      <td>NaN</td>\n",
       "    </tr>\n",
       "    <tr>\n",
       "      <th>1</th>\n",
       "      <td>2398795</td>\n",
       "      <td>1</td>\n",
       "      <td>prior</td>\n",
       "      <td>2</td>\n",
       "      <td>3</td>\n",
       "      <td>7</td>\n",
       "      <td>15.0</td>\n",
       "    </tr>\n",
       "    <tr>\n",
       "      <th>2</th>\n",
       "      <td>473747</td>\n",
       "      <td>1</td>\n",
       "      <td>prior</td>\n",
       "      <td>3</td>\n",
       "      <td>3</td>\n",
       "      <td>12</td>\n",
       "      <td>21.0</td>\n",
       "    </tr>\n",
       "    <tr>\n",
       "      <th>3</th>\n",
       "      <td>2254736</td>\n",
       "      <td>1</td>\n",
       "      <td>prior</td>\n",
       "      <td>4</td>\n",
       "      <td>4</td>\n",
       "      <td>7</td>\n",
       "      <td>29.0</td>\n",
       "    </tr>\n",
       "    <tr>\n",
       "      <th>4</th>\n",
       "      <td>431534</td>\n",
       "      <td>1</td>\n",
       "      <td>prior</td>\n",
       "      <td>5</td>\n",
       "      <td>4</td>\n",
       "      <td>15</td>\n",
       "      <td>28.0</td>\n",
       "    </tr>\n",
       "    <tr>\n",
       "      <th>5</th>\n",
       "      <td>3367565</td>\n",
       "      <td>1</td>\n",
       "      <td>prior</td>\n",
       "      <td>6</td>\n",
       "      <td>2</td>\n",
       "      <td>7</td>\n",
       "      <td>19.0</td>\n",
       "    </tr>\n",
       "    <tr>\n",
       "      <th>6</th>\n",
       "      <td>550135</td>\n",
       "      <td>1</td>\n",
       "      <td>prior</td>\n",
       "      <td>7</td>\n",
       "      <td>1</td>\n",
       "      <td>9</td>\n",
       "      <td>20.0</td>\n",
       "    </tr>\n",
       "    <tr>\n",
       "      <th>7</th>\n",
       "      <td>3108588</td>\n",
       "      <td>1</td>\n",
       "      <td>prior</td>\n",
       "      <td>8</td>\n",
       "      <td>1</td>\n",
       "      <td>14</td>\n",
       "      <td>14.0</td>\n",
       "    </tr>\n",
       "    <tr>\n",
       "      <th>8</th>\n",
       "      <td>2295261</td>\n",
       "      <td>1</td>\n",
       "      <td>prior</td>\n",
       "      <td>9</td>\n",
       "      <td>1</td>\n",
       "      <td>16</td>\n",
       "      <td>0.0</td>\n",
       "    </tr>\n",
       "    <tr>\n",
       "      <th>9</th>\n",
       "      <td>2550362</td>\n",
       "      <td>1</td>\n",
       "      <td>prior</td>\n",
       "      <td>10</td>\n",
       "      <td>4</td>\n",
       "      <td>8</td>\n",
       "      <td>30.0</td>\n",
       "    </tr>\n",
       "    <tr>\n",
       "      <th>10</th>\n",
       "      <td>1187899</td>\n",
       "      <td>1</td>\n",
       "      <td>train</td>\n",
       "      <td>11</td>\n",
       "      <td>4</td>\n",
       "      <td>8</td>\n",
       "      <td>14.0</td>\n",
       "    </tr>\n",
       "  </tbody>\n",
       "</table>\n",
       "</div>"
      ],
      "text/plain": [
       "   order_id user_id eval_set  order_number  order_day  order_hour_of_day  \\\n",
       "0   2539329       1    prior             1          2                  8   \n",
       "1   2398795       1    prior             2          3                  7   \n",
       "2    473747       1    prior             3          3                 12   \n",
       "3   2254736       1    prior             4          4                  7   \n",
       "4    431534       1    prior             5          4                 15   \n",
       "5   3367565       1    prior             6          2                  7   \n",
       "6    550135       1    prior             7          1                  9   \n",
       "7   3108588       1    prior             8          1                 14   \n",
       "8   2295261       1    prior             9          1                 16   \n",
       "9   2550362       1    prior            10          4                  8   \n",
       "10  1187899       1    train            11          4                  8   \n",
       "\n",
       "    days_since_prior_order  \n",
       "0                      NaN  \n",
       "1                     15.0  \n",
       "2                     21.0  \n",
       "3                     29.0  \n",
       "4                     28.0  \n",
       "5                     19.0  \n",
       "6                     20.0  \n",
       "7                     14.0  \n",
       "8                      0.0  \n",
       "9                     30.0  \n",
       "10                    14.0  "
      ]
     },
     "execution_count": 27,
     "metadata": {},
     "output_type": "execute_result"
    }
   ],
   "source": [
    "df_usr1=df_ords.query('user_id==\"1\"') # get data for user_data =1 and put it in new dataframe\n",
    "df_usr1  # print the dataframe"
   ]
  },
  {
   "cell_type": "markdown",
   "id": "943b554c",
   "metadata": {},
   "source": [
    "# 10 \n",
    "#### Get most freq day and hour of User 1"
   ]
  },
  {
   "cell_type": "code",
   "execution_count": 28,
   "id": "435adee4",
   "metadata": {},
   "outputs": [
    {
     "data": {
      "text/html": [
       "<div>\n",
       "<style scoped>\n",
       "    .dataframe tbody tr th:only-of-type {\n",
       "        vertical-align: middle;\n",
       "    }\n",
       "\n",
       "    .dataframe tbody tr th {\n",
       "        vertical-align: top;\n",
       "    }\n",
       "\n",
       "    .dataframe thead th {\n",
       "        text-align: right;\n",
       "    }\n",
       "</style>\n",
       "<table border=\"1\" class=\"dataframe\">\n",
       "  <thead>\n",
       "    <tr style=\"text-align: right;\">\n",
       "      <th></th>\n",
       "      <th>order_day</th>\n",
       "      <th>order_hour_of_day</th>\n",
       "    </tr>\n",
       "  </thead>\n",
       "  <tbody>\n",
       "    <tr>\n",
       "      <th>0</th>\n",
       "      <td>4.0</td>\n",
       "      <td>7</td>\n",
       "    </tr>\n",
       "    <tr>\n",
       "      <th>1</th>\n",
       "      <td>NaN</td>\n",
       "      <td>8</td>\n",
       "    </tr>\n",
       "  </tbody>\n",
       "</table>\n",
       "</div>"
      ],
      "text/plain": [
       "   order_day  order_hour_of_day\n",
       "0        4.0                  7\n",
       "1        NaN                  8"
      ]
     },
     "execution_count": 28,
     "metadata": {},
     "output_type": "execute_result"
    }
   ],
   "source": [
    "df_usr1[[\"order_day\",\"order_hour_of_day\"]].mode() #mode() is used to get most freq data"
   ]
  },
  {
   "cell_type": "markdown",
   "id": "578a87c5",
   "metadata": {},
   "source": [
    "User 1 frequently order at day= 4 and hour= 7am"
   ]
  },
  {
   "cell_type": "code",
   "execution_count": null,
   "id": "222c164f",
   "metadata": {},
   "outputs": [],
   "source": []
  }
 ],
 "metadata": {
  "kernelspec": {
   "display_name": "Python 3 (ipykernel)",
   "language": "python",
   "name": "python3"
  },
  "language_info": {
   "codemirror_mode": {
    "name": "ipython",
    "version": 3
   },
   "file_extension": ".py",
   "mimetype": "text/x-python",
   "name": "python",
   "nbconvert_exporter": "python",
   "pygments_lexer": "ipython3",
   "version": "3.10.2"
  }
 },
 "nbformat": 4,
 "nbformat_minor": 5
}
